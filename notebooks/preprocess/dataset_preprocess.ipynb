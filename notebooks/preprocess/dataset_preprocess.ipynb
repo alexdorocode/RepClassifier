{
 "cells": [
  {
   "cell_type": "code",
   "execution_count": null,
   "metadata": {},
   "outputs": [],
   "source": [
    "! pip install goatools"
   ]
  },
  {
   "cell_type": "code",
   "execution_count": 17,
   "metadata": {},
   "outputs": [],
   "source": [
    "import os\n",
    "import pandas as pd\n",
    "import requests\n",
    "\n",
    "from goatools.obo_parser import GODag\n",
    "from goatools.godag.go_tasks import get_go2ancestors"
   ]
  },
  {
   "cell_type": "code",
   "execution_count": null,
   "metadata": {},
   "outputs": [
    {
     "name": "stdout",
     "output_type": "stream",
     "text": [
      "Dataframe shape: (1261, 17)\n"
     ]
    }
   ],
   "source": [
    "SAVE_PATH = \"../../datasets/\"\n",
    "\n",
    "# Ensure the save path exists\n",
    "os.makedirs(SAVE_PATH, exist_ok=True)\n",
    "\n",
    "df = pd.read_csv(\"../../datasets/predictor_dataset.csv\")\n",
    "\n",
    "print(\"Dataframe shape:\", df.shape)"
   ]
  },
  {
   "cell_type": "code",
   "execution_count": 9,
   "metadata": {},
   "outputs": [],
   "source": [
    "# Uniprot IDs\n",
    "df_moondb_dataset = pd.read_csv(\"../../datasets/moondb_dataset.csv\")\n",
    "df_moonprot_dataset = pd.read_csv(\"../../datasets/moonprot_dataset.csv\")\n",
    "\n",
    "uniprot_ids_moondb = set(df_moondb_dataset[\"UniProt IDs\"])\n",
    "uniprot_ids_moonprot = set(df_moonprot_dataset[\"UniProt IDs\"])"
   ]
  },
  {
   "cell_type": "code",
   "execution_count": 10,
   "metadata": {},
   "outputs": [
    {
     "name": "stdout",
     "output_type": "stream",
     "text": [
      "Duplicated rows shape: (24, 17)\n",
      "Duplicated ID: P09169 (in MoonProt dataset)\n",
      "Columns with differences: Class\n",
      "Duplicated ID: O75400 (in MoonDB dataset)\n",
      "Columns with differences: CC_Pairs_Max_MBL, Class\n",
      "Duplicated ID: P08254 (in MoonProt dataset)\n",
      "Columns with differences: GO BP Terms, GO CC Terms, MF_Pairs_Max_MBL, Class\n",
      "Duplicated ID: O75821 (in MoonProt dataset)\n",
      "Columns with differences: PDB ID, Class\n",
      "Duplicated ID: O15371 (in MoonProt dataset)\n",
      "Columns with differences: PDB ID, MF_Pairs_Max_MBL, Class\n",
      "Duplicated ID: P10096 (in MoonProt dataset)\n",
      "Columns with differences: Class\n",
      "Duplicated ID: O14788 (in MoonDB dataset)\n",
      "Columns with differences: GO BP Terms, Max_MBL_MF, MF_Pairs_Max_MBL, Highest_MBL, Class\n",
      "Duplicated ID: P00004 (in MoonProt dataset)\n",
      "Columns with differences: Class\n",
      "Duplicated ID: P15822 (in MoonDB dataset)\n",
      "Columns with differences: CC_Pairs_Max_MBL, Class\n",
      "Duplicated ID: O43639 (in MoonDB dataset)\n",
      "Columns with differences: CC_Pairs_Max_MBL, Class\n",
      "Duplicated ID: P12063 (in both datasets)\n",
      "Columns with differences: MF_Pairs_Max_MBL, Class\n",
      "Duplicated ID: P06745 (in MoonProt dataset)\n",
      "Columns with differences: GO BP Terms, CC_Pairs_Max_MBL, Class\n"
     ]
    }
   ],
   "source": [
    "# Compare the duplicated rows with the same Unique ID\n",
    "duplicates = df[df.duplicated(subset=[\"UniProt IDs\"], keep=False)]\n",
    "print(f\"Duplicated rows shape: {duplicates.shape}\")\n",
    "\n",
    "for id in duplicates[\"UniProt IDs\"].unique():\n",
    "    # Check which dataset the ID belongs to\n",
    "    if id in uniprot_ids_moondb and id in uniprot_ids_moonprot:\n",
    "        dataset_info = \"in both datasets\"\n",
    "    elif id in uniprot_ids_moondb:\n",
    "        dataset_info = \"in MoonDB dataset\"\n",
    "    elif id in uniprot_ids_moonprot:\n",
    "        dataset_info = \"in MoonProt dataset\"\n",
    "    else:\n",
    "        dataset_info = \"in none of the datasets\"\n",
    "\n",
    "    print(f\"Duplicated ID: {id} ({dataset_info})\")\n",
    "    aux = duplicates[duplicates[\"UniProt IDs\"] == id]\n",
    "    if len(aux) > 1:  # Ensure there are at least two rows to compare\n",
    "        # Compare each column for the first two rows\n",
    "        row1, row2 = aux.iloc[0], aux.iloc[1]\n",
    "        unequal_columns = [col for col in aux.columns if row1[col] != row2[col]]\n",
    "        print(f\"Columns with differences: {', '.join(unequal_columns)}\")"
   ]
  },
  {
   "cell_type": "code",
   "execution_count": 12,
   "metadata": {},
   "outputs": [
    {
     "name": "stdout",
     "output_type": "stream",
     "text": [
      "Dataframe shape after dropping all duplicates: (1237, 17)\n"
     ]
    }
   ],
   "source": [
    "# Drop both copies of the duplicated rows based on UniProt IDs\n",
    "df = df[~df[\"UniProt IDs\"].isin(duplicates[\"UniProt IDs\"])]\n",
    "print(\"Dataframe shape after dropping all duplicates:\", df.shape)"
   ]
  },
  {
   "cell_type": "code",
   "execution_count": 13,
   "metadata": {},
   "outputs": [
    {
     "name": "stdout",
     "output_type": "stream",
     "text": [
      "NA values in each column:\n",
      "  UniProt IDs                                             PDB ID  \\\n",
      "1      Q9Y2X8                                                NaN   \n",
      "2      Q05086  1C4Z; 1D5F; 1EQX; 2KR1; 4GIZ; 4XR8; 6SJV; 6SLM...   \n",
      "3      Q9Y6X0                                                NaN   \n",
      "4      Q8BH75                                               2OGB   \n",
      "5      Q04120                                   5DVB; 5EPT; 6UTL   \n",
      "\n",
      "                                           Gene Name  \\\n",
      "1         {'Name': 'UBE2D4', 'Synonyms': ['UBCH5D']}   \n",
      "2  {'Name': 'UBE3A {ECO:0000312|HGNC:HGNC:12496}'...   \n",
      "3       {'Name': 'SETBP1', 'Synonyms': ['KIAA0437']}   \n",
      "4   {'Name': 'Rnf41', 'Synonyms': ['Flrf', 'Nrdp1']}   \n",
      "5  {'Name': 'TSA2 {ECO:0000303|PubMed:11741925}',...   \n",
      "\n",
      "                         Protein Name  \\\n",
      "1  Ubiquitin-conjugating enzyme E2 D4   \n",
      "2        Ubiquitin-protein ligase E3A   \n",
      "3                 SET-binding protein   \n",
      "4   E3 ubiquitin-protein ligase NRDP1   \n",
      "5    Peroxiredoxin TSA2 {ECO:0000305}   \n",
      "\n",
      "                                 Amino Acid Sequence  \\\n",
      "1  MALKRIQKELTDLQRDPPAQCSAGPVGDDLFHWQATIMGPNDSPYQ...   \n",
      "2  MEKLHQCYWKSGEPQSDDIEASRMKRAAAKHLIERYYHQLTEGCGN...   \n",
      "3  MESRETLSSSRQRGGESDFLPVSSAKPPAAPGCAGEPLLSTPGPGK...   \n",
      "4  MGYDVTRFQGDVDEDLICPICSGVLEEPVQAPHCEHAFCNACITQW...   \n",
      "5  MVAEVQKQAPPFKKTAVVDGIFEEISLEKYKGKYVVLAFVPLAFSF...   \n",
      "\n",
      "                                       Organism Name    Status  \\\n",
      "1                              Homo sapiens (Human).  Reviewed   \n",
      "2                              Homo sapiens (Human).  Reviewed   \n",
      "3                              Homo sapiens (Human).  Reviewed   \n",
      "4                              Mus musculus (Mouse).  Reviewed   \n",
      "5  Saccharomyces cerevisiae (strain ATCC 204508 /...  Reviewed   \n",
      "\n",
      "   Protein Existence                                        GO BP Terms  \\\n",
      "1                1.0  GO:0070979 - protein K11-linked ubiquitination...   \n",
      "2                1.0  GO:0030521 - androgen receptor signaling pathw...   \n",
      "3                1.0  GO:0006355 - regulation of DNA-templated trans...   \n",
      "4                1.0  GO:0006914 - autophagy; GO:0097191 - extrinsic...   \n",
      "5                1.0  GO:0045454 - cell redox homeostasis; GO:003459...   \n",
      "\n",
      "                                         GO CC Terms  \\\n",
      "1  GO:0005634 - nucleus; GO:0000151 - ubiquitin l...   \n",
      "2  GO:0005829 - cytosol; GO:0098978 - glutamaterg...   \n",
      "3  GO:0005829 - cytosol; GO:0016604 - nuclear bod...   \n",
      "4  GO:0071782 - endoplasmic reticulum tubular net...   \n",
      "5       GO:0005737 - cytoplasm; GO:0005829 - cytosol   \n",
      "\n",
      "                                         GO MF Terms  Max_MBL_CC  \\\n",
      "1  GO:0005524 - ATP binding; GO:0061631 - ubiquit...         0.0   \n",
      "2  GO:0046872 - metal ion binding; GO:0003713 - t...         0.0   \n",
      "3  GO:0003677 - DNA binding; GO:0042800 - histone...         2.0   \n",
      "4  GO:0005128 - erythropoietin receptor binding; ...         0.0   \n",
      "5  GO:0051920 - peroxiredoxin activity; GO:000837...         0.0   \n",
      "\n",
      "                                    CC_Pairs_Max_MBL  Max_MBL_MF  \\\n",
      "1                                            No data         1.0   \n",
      "2                                            No data         1.0   \n",
      "3  [('GO:0005654', 'GO:0016604'), ('GO:0005829', ...         0.0   \n",
      "4                                            No data         2.0   \n",
      "5                                            No data         2.0   \n",
      "\n",
      "                 MF_Pairs_Max_MBL  Highest_MBL  Class  \n",
      "1  [('GO:0004842', 'GO:0061631')]          1.0   True  \n",
      "2  [('GO:0004842', 'GO:0061630')]          1.0   True  \n",
      "3                         No data          2.0   True  \n",
      "4  [('GO:0005128', 'GO:0005135')]          2.0   True  \n",
      "5  [('GO:0008379', 'GO:0051920')]          2.0   True  \n",
      "UniProt IDs              0\n",
      "PDB ID                 158\n",
      "Gene Name               23\n",
      "Protein Name             0\n",
      "Amino Acid Sequence      0\n",
      "Organism Name            0\n",
      "Status                   0\n",
      "Protein Existence        0\n",
      "GO BP Terms             26\n",
      "GO CC Terms             23\n",
      "GO MF Terms             48\n",
      "Max_MBL_CC               0\n",
      "CC_Pairs_Max_MBL         0\n",
      "Max_MBL_MF               0\n",
      "MF_Pairs_Max_MBL         0\n",
      "Highest_MBL              0\n",
      "Class                    0\n",
      "dtype: int64\n"
     ]
    }
   ],
   "source": [
    "# Print the na values of each column\n",
    "print(\"NA values in each column:\")\n",
    "print(df.head())\n",
    "print(df.isna().sum())"
   ]
  },
  {
   "cell_type": "code",
   "execution_count": 16,
   "metadata": {},
   "outputs": [
    {
     "name": "stdout",
     "output_type": "stream",
     "text": [
      "go-basic.obo not found. Downloading...\n",
      "Downloaded go-basic.obo to go-basic.obo\n",
      "Loading GO DAG...\n",
      "go-basic.obo: fmt(1.2) rel(2025-03-16) 43,544 Terms\n",
      "Number of GO terms loaded: 43544\n"
     ]
    }
   ],
   "source": [
    "# Define the file path and URL for the GO DAG file\n",
    "obo_file_path = \"go-basic.obo\"\n",
    "obo_url = \"http://current.geneontology.org/ontology/go-basic.obo\"\n",
    "\n",
    "# Check if the file exists, otherwise download it\n",
    "if not os.path.exists(obo_file_path):\n",
    "    print(f\"{obo_file_path} not found. Downloading...\")\n",
    "    response = requests.get(obo_url)\n",
    "    if response.status_code == 200:\n",
    "        with open(obo_file_path, \"wb\") as f:\n",
    "            f.write(response.content)\n",
    "        print(f\"Downloaded go-basic.obo to {obo_file_path}\")\n",
    "    else:\n",
    "        raise ValueError(f\"Failed to download go-basic.obo. HTTP status code: {response.status_code}\")\n",
    "\n",
    "# Load the GO DAG\n",
    "print(\"Loading GO DAG...\")\n",
    "godag = GODag(obo_file_path)\n",
    "print(f\"Number of GO terms loaded: {len(godag)}\")"
   ]
  },
  {
   "cell_type": "code",
   "execution_count": 22,
   "metadata": {},
   "outputs": [],
   "source": [
    "# Functions kept from the FranciscoJPuiMot repository: https://github.com/CBBIO/protein-metamorphisms-is/blob/main/protein_metamorphisms_is/operation/functional/multifunctionality/go_multifunctionality_metrics.py\n",
    "\n",
    "def get_all_ancestors(go_id, go2ancestors):\n",
    "    \"\"\"Returns all ancestors of the GO term, including optional relationships.\"\"\"\n",
    "    return go2ancestors.get(go_id, set())\n",
    "\n",
    "\n",
    "def calculate_mbl_with_relationships(go_id1, go_id2, godag):\n",
    "    # Create the subgraph with all relationships\n",
    "    go2ancestors = get_go2ancestors(set(godag.values()), relationships={\"is_a\", \"part_of\", \"regulates\"})\n",
    "\n",
    "    # Get all ancestors of both terms\n",
    "    ancestors1 = get_all_ancestors(go_id1, go2ancestors) | {go_id1}\n",
    "    ancestors2 = get_all_ancestors(go_id2, go2ancestors) | {go_id2}\n",
    "\n",
    "    # Find the common ancestors\n",
    "    common_ancestors = ancestors1.intersection(ancestors2)\n",
    "    if not common_ancestors:\n",
    "        print(\"There are no common ancestors between the given terms.\")\n",
    "        return None\n",
    "\n",
    "    # Calculate the minimum distance to the common ancestors\n",
    "    min_distance = float(\"inf\")\n",
    "    for ancestor in common_ancestors:\n",
    "        distance = abs(godag[go_id1].depth + godag[go_id2].depth - 2 * godag[ancestor].depth)\n",
    "        min_distance = min(min_distance, distance)\n",
    "\n",
    "    print(f\"Minimum Branch Length (MBL) between {go_id1} and {go_id2}: {min_distance}\")\n",
    "    return min_distance\n",
    "\n",
    "def calculate_all_mbl_from_GO_attribute(df, go_attribute):\n",
    "    \"\"\"\n",
    "    Calculates the Minimum Branch Length (MBL) between all pairs of GO terms in the given attribute.\n",
    "    Returns a list of all MBL values and the maximum MBL for each row (Pairs_Max_MBL).\n",
    "    \"\"\"\n",
    "    mbl_values = []\n",
    "    pairs_max_mbl = []\n",
    "\n",
    "    for i in range(len(df)):\n",
    "        go_id1 = df.iloc[i][go_attribute]\n",
    "        row_mbl_values = []  # Store MBL values for the current row\n",
    "        for j in range(i + 1, len(df)):\n",
    "            go_id2 = df.iloc[j][go_attribute]\n",
    "            if pd.notna(go_id1) and pd.notna(go_id2):\n",
    "                mbl = calculate_mbl_with_relationships(go_id1, go_id2, godag)\n",
    "                if mbl is not None:\n",
    "                    mbl_values.append(mbl)\n",
    "                    row_mbl_values.append(mbl)\n",
    "\n",
    "        # Store the maximum MBL for the current row\n",
    "        if row_mbl_values:\n",
    "            pairs_max_mbl.append(max(row_mbl_values))\n",
    "        else:\n",
    "            pairs_max_mbl.append(None)  # No valid pairs for this row\n",
    "\n",
    "    return mbl_values, pairs_max_mbl"
   ]
  },
  {
   "cell_type": "code",
   "execution_count": null,
   "metadata": {},
   "outputs": [],
   "source": []
  }
 ],
 "metadata": {
  "kernelspec": {
   "display_name": "prot_env",
   "language": "python",
   "name": "python3"
  },
  "language_info": {
   "codemirror_mode": {
    "name": "ipython",
    "version": 3
   },
   "file_extension": ".py",
   "mimetype": "text/x-python",
   "name": "python",
   "nbconvert_exporter": "python",
   "pygments_lexer": "ipython3",
   "version": "3.9.21"
  }
 },
 "nbformat": 4,
 "nbformat_minor": 2
}
